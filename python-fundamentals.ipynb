{
 "cells": [
  {
   "cell_type": "markdown",
   "id": "8f68504e-d3a3-4e8e-810f-e40522c77539",
   "metadata": {},
   "source": [
    "## Python Quickstart"
   ]
  },
  {
   "cell_type": "markdown",
   "id": "294d0a18-372b-4d3e-928f-48d027a0a9dd",
   "metadata": {},
   "source": [
    "Python is an interpreted programming language, this means that as a developer you write Python (.py) files in a text editor and then put those files into the python interpreter to be executed.\n",
    "\n",
    "The way to run a python file is like this on the command line:"
   ]
  },
  {
   "cell_type": "markdown",
   "id": "9c9b86e7-05b4-47de-8df8-add1fcfa1737",
   "metadata": {},
   "source": [
    "python helloworld.py "
   ]
  },
  {
   "cell_type": "markdown",
   "id": "35e631d0-4ba6-454f-bef7-bb236900a969",
   "metadata": {},
   "source": [
    "Where \"helloworld.py\" is the name of your python file.\n",
    "\n",
    "Let's write our first Python file, called helloworld.py, which can be done in any text editor."
   ]
  },
  {
   "cell_type": "code",
   "execution_count": 2,
   "id": "54f44c84-d1b0-4eb0-86f7-ee4246f1f939",
   "metadata": {},
   "outputs": [
    {
     "name": "stdout",
     "output_type": "stream",
     "text": [
      "Hello, World!\n"
     ]
    }
   ],
   "source": [
    "print(\"Hello, World!\")"
   ]
  },
  {
   "cell_type": "markdown",
   "id": "89393c38-39dc-4bc6-8b86-80678277809d",
   "metadata": {},
   "source": [
    "Simple as that. Save your file. Open your command line, navigate to the directory where you saved your file, and run:"
   ]
  },
  {
   "cell_type": "raw",
   "id": "65738558-0bb8-4dbe-86b4-f4231465a09d",
   "metadata": {},
   "source": [
    "C:\\Users\\Your Name>python helloworld.py "
   ]
  },
  {
   "cell_type": "markdown",
   "id": "9d79b3fe-eb45-4acf-a480-05eb012a196e",
   "metadata": {},
   "source": [
    "## Python Version\n",
    "Check the Python version of the editor"
   ]
  },
  {
   "cell_type": "code",
   "execution_count": 5,
   "id": "7ae8b9d9-46c2-4ac9-8b93-d718cb35a645",
   "metadata": {},
   "outputs": [
    {
     "name": "stdout",
     "output_type": "stream",
     "text": [
      "Python Version : 3.11.8 (main, Feb  7 2024, 21:52:08) [GCC 13.2.0]\n"
     ]
    }
   ],
   "source": [
    "import sys\n",
    "python_version = sys.version\n",
    "print(\"Python Version : \" + str(python_version))"
   ]
  },
  {
   "cell_type": "markdown",
   "id": "5a95a401-e67f-433a-a246-5c03eace2ff1",
   "metadata": {},
   "source": [
    "## Python Comments"
   ]
  },
  {
   "cell_type": "markdown",
   "id": "78899f49-1dd2-474b-986c-41f21dda7009",
   "metadata": {},
   "source": [
    "Or, not quite as intended, you can use a multiline string.\n",
    "\n",
    "Since Python will ignore string literals that are not assigned to a variable, you can add a multiline string (triple quotes) in your code, and place your comment inside it:"
   ]
  },
  {
   "cell_type": "code",
   "execution_count": 8,
   "id": "4922e231-7f55-4843-b87f-522a1346d73b",
   "metadata": {},
   "outputs": [
    {
     "name": "stdout",
     "output_type": "stream",
     "text": [
      "Example of Python Comments\n"
     ]
    },
    {
     "data": {
      "text/plain": [
       "' \\nThis is \\na multi-line \\ncomments\\n'"
      ]
     },
     "execution_count": 8,
     "metadata": {},
     "output_type": "execute_result"
    }
   ],
   "source": [
    "# This is a simple | One Line Comments\n",
    "print(\"Example of Python Comments\")   # Comments can also be used like this to explain specific code line.\n",
    "\"\"\" \n",
    "This is \n",
    "a multi-line \n",
    "comments\n",
    "\"\"\"\n"
   ]
  },
  {
   "cell_type": "markdown",
   "id": "06c673e9-47c8-4bf3-b5f7-7e6471918648",
   "metadata": {},
   "source": [
    "## Python Variables\n",
    "Variables are containers for storing data values."
   ]
  },
  {
   "cell_type": "code",
   "execution_count": 9,
   "id": "8ff13212-354c-40d6-b168-54c9ae29e85c",
   "metadata": {},
   "outputs": [
    {
     "name": "stdout",
     "output_type": "stream",
     "text": [
      "Channel Titlte : Cipherwolf\n"
     ]
    }
   ],
   "source": [
    "# Creating Variables\n",
    "# Python has no command for declaring a variable.\n",
    "# A variable is created the moment you first assign a value to it.\n",
    "\n",
    "title = \"Cipherwolf\"\n",
    "print(\"Channel Titlte : \" + title)"
   ]
  },
  {
   "cell_type": "markdown",
   "id": "1ae92c4d-dba5-46af-82c2-2851fd54bc88",
   "metadata": {},
   "source": [
    "Variables do not need to be declared with any particular type, and can even change type after they have been set."
   ]
  },
  {
   "cell_type": "code",
   "execution_count": 12,
   "id": "2c6473e3-7f29-40bb-b1b7-f545d4b056a0",
   "metadata": {},
   "outputs": [
    {
     "name": "stdout",
     "output_type": "stream",
     "text": [
      "Assigned Value : 4\n",
      "Value Reassigned : Value is changed from 4\n"
     ]
    }
   ],
   "source": [
    "value = 4\n",
    "print(\"Assigned Value : \" + str(value))\n",
    "value = \"Value is changed from 4\"\n",
    "print(\"Value Reassigned : \" + str(value))"
   ]
  },
  {
   "cell_type": "markdown",
   "id": "e32a311a-37c3-4cc8-87be-06ffe83859ea",
   "metadata": {},
   "source": [
    "### Casting\n",
    "Specify the data type of a variable, this can be done with casting."
   ]
  },
  {
   "cell_type": "code",
   "execution_count": 25,
   "id": "30f78e5a-35e8-4c1b-a050-56391ae21c59",
   "metadata": {},
   "outputs": [
    {
     "ename": "TypeError",
     "evalue": "'float' object is not callable",
     "output_type": "error",
     "traceback": [
      "\u001b[0;31m---------------------------------------------------------------------------\u001b[0m",
      "\u001b[0;31mTypeError\u001b[0m                                 Traceback (most recent call last)",
      "Cell \u001b[0;32mIn[25], line 3\u001b[0m\n\u001b[1;32m      1\u001b[0m num  \u001b[38;5;241m=\u001b[39m \u001b[38;5;28mint\u001b[39m(\u001b[38;5;241m44\u001b[39m)\n\u001b[1;32m      2\u001b[0m text \u001b[38;5;241m=\u001b[39m \u001b[38;5;28mstr\u001b[39m(\u001b[38;5;124m\"\u001b[39m\u001b[38;5;124mHello\u001b[39m\u001b[38;5;124m\"\u001b[39m)\n\u001b[0;32m----> 3\u001b[0m decimal \u001b[38;5;241m=\u001b[39m \u001b[38;5;28;43mfloat\u001b[39;49m\u001b[43m(\u001b[49m\u001b[38;5;241;43m3\u001b[39;49m\u001b[43m)\u001b[49m\n\u001b[1;32m      5\u001b[0m \u001b[38;5;28mprint\u001b[39m(\u001b[38;5;124m\"\u001b[39m\u001b[38;5;124mNum Value : \u001b[39m\u001b[38;5;132;01m{}\u001b[39;00m\u001b[38;5;124m\"\u001b[39m\u001b[38;5;241m.\u001b[39mformat(num))\n\u001b[1;32m      6\u001b[0m \u001b[38;5;28mprint\u001b[39m(\u001b[38;5;124m\"\u001b[39m\u001b[38;5;124mText Value: \u001b[39m\u001b[38;5;132;01m{}\u001b[39;00m\u001b[38;5;124m\"\u001b[39m\u001b[38;5;241m.\u001b[39mformat(text))\n",
      "\u001b[0;31mTypeError\u001b[0m: 'float' object is not callable"
     ]
    }
   ],
   "source": [
    "num  = int(44)\n",
    "text = str(\"Hello\")\n",
    "decimal = float(3)\n",
    "\n",
    "print(\"Num Value : {}\".format(num))\n",
    "print(\"Text Value: {}\".format(text))\n",
    "print(\"Decimal Value : {}\".format(decimal))"
   ]
  },
  {
   "cell_type": "code",
   "execution_count": null,
   "id": "4cb349c6-329d-4b5a-b410-6e6a45d0dd08",
   "metadata": {},
   "outputs": [],
   "source": []
  }
 ],
 "metadata": {
  "kernelspec": {
   "display_name": "Python 3 (ipykernel)",
   "language": "python",
   "name": "python3"
  },
  "language_info": {
   "codemirror_mode": {
    "name": "ipython",
    "version": 3
   },
   "file_extension": ".py",
   "mimetype": "text/x-python",
   "name": "python",
   "nbconvert_exporter": "python",
   "pygments_lexer": "ipython3",
   "version": "3.11.8"
  }
 },
 "nbformat": 4,
 "nbformat_minor": 5
}
